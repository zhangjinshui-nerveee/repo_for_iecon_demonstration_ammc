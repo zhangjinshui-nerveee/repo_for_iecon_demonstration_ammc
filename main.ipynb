{
 "cells": [
  {
   "cell_type": "markdown",
   "id": "e0b06cd4-e83d-49b7-9855-3161fb31f16b",
   "metadata": {},
   "source": [
    "# What to show in this program?\n",
    "\n",
    "Prerequisite:\n",
    "- 6 module system\n",
    "- uniformed voltage peak\n",
    "\n",
    "1. For different module voltage profile, output levels vary.\n",
    "2. The output levels' range affect output quality (total distortion)."
   ]
  },
  {
   "cell_type": "code",
   "execution_count": 1,
   "id": "2d6c281d-77fb-4dd0-b2e8-8f36c350faa8",
   "metadata": {},
   "outputs": [],
   "source": [
    "# import frac lib\n",
    "\n",
    "# load pre-requisite\n",
    "\n",
    "# output voltage group for different voltage profile\n",
    "\n",
    "# voltage output"
   ]
  },
  {
   "cell_type": "code",
   "execution_count": null,
   "id": "bd08b736-21b3-45ae-9980-9fea84a9ed11",
   "metadata": {},
   "outputs": [],
   "source": [
    "import numpy as np\n",
    "\n",
    "print(\"Hello\")"
   ]
  }
 ],
 "metadata": {
  "kernelspec": {
   "display_name": "Python 3 (ipykernel)",
   "language": "python",
   "name": "python3"
  },
  "language_info": {
   "codemirror_mode": {
    "name": "ipython",
    "version": 3
   },
   "file_extension": ".py",
   "mimetype": "text/x-python",
   "name": "python",
   "nbconvert_exporter": "python",
   "pygments_lexer": "ipython3",
   "version": "3.12.4"
  }
 },
 "nbformat": 4,
 "nbformat_minor": 5
}
